{
 "cells": [
  {
   "cell_type": "code",
   "execution_count": 20,
   "id": "51c4a0e8",
   "metadata": {},
   "outputs": [
    {
     "name": "stdout",
     "output_type": "stream",
     "text": [
      "Ваш алгоритм угадывает число в среднем за 4 попыток\n"
     ]
    },
    {
     "data": {
      "text/plain": [
       "4"
      ]
     },
     "execution_count": 20,
     "metadata": {},
     "output_type": "execute_result"
    }
   ],
   "source": [
    "import numpy as np\n",
    "\n",
    "number = np.random.randint(1, 101)\n",
    "\n",
    "\n",
    "def game_core_v1(number):\n",
    "    # Сначала устанавливаем любое random число, затем, используя метод деления пополам,\n",
    "    # сокрашаем интервал нахождения загаданного числа до тех пор, пока не отгадаем загаданное число.\n",
    "    # Функция принимает загаданное число и возвращает число попыток\n",
    "\n",
    "    count = 0  # устанавливаем счетчик попыток\n",
    "    low = 1    # определяем нижнюю границу\n",
    "    up = 100   # определяем верхнюю границу\n",
    "    predict = np.random.randint(1, 101)\n",
    "\n",
    "    while number != predict:\n",
    "        count += 1\n",
    "        if number > predict:\n",
    "            # сдвигаеи нижнюю границу идиапазона загаданного числа\n",
    "            low = predict\n",
    "            predict = int((up + low) / 2)\n",
    "\n",
    "        elif number < predict:\n",
    "            # сдвигаеи верхнюю границу диапазона загаданного числа\n",
    "            up = predict\n",
    "            predict = (up + low) // 2\n",
    "\n",
    "    return count  # выход из цикла, если угадали\n",
    "\n",
    "\n",
    "def score_game(game_core):\n",
    "    # Запускаем игру 200 раз, чтобы узнать, как быстро игра угадывает число\n",
    "    count_ls = []\n",
    "    np.random.seed(1)  # фиксируем RANDOM SEED, чтобы ваш эксперимент был воспроизводим!\n",
    "    random_array = np.random.randint(1, 101, size=200)\n",
    "    for numb in random_array:\n",
    "        count_ls.append(game_core(numb))\n",
    "    score = int(np.mean(count_ls))\n",
    "    print(f\"Ваш алгоритм угадывает число в среднем за {score} попыток\")\n",
    "    return score\n",
    "\n",
    "\n",
    "# запускаем и проверяем\n",
    "score_game(game_core_v1)\n"
   ]
  },
  {
   "cell_type": "code",
   "execution_count": 21,
   "id": "83c7c525",
   "metadata": {},
   "outputs": [
    {
     "name": "stdout",
     "output_type": "stream",
     "text": [
      "36 36\n"
     ]
    },
    {
     "data": {
      "text/plain": [
       "3"
      ]
     },
     "execution_count": 21,
     "metadata": {},
     "output_type": "execute_result"
    }
   ],
   "source": [
    "# Отдельно проверяем функцию для угадывания числа. Вариант1-первоначально predict случайное число из интервала от 1 до 100.\n",
    "\n",
    "import numpy as np\n",
    "\n",
    "number = np.random.randint(1, 101)\n",
    "\n",
    "\n",
    "def game_core_v2(number):\n",
    "    # Сначала устанавливаем любое random число, затем, используя метод деления пополам,\n",
    "    # сокрашаем интервал нахождения загаданного числа до тех пор, пока не отгадаем загаданное число.\n",
    "    # Функция принимает загаданное число и возвращает число попыток\n",
    "\n",
    "    count = 0  # устанавливаем счетчик попыток\n",
    "    low = 1  # определяем нижнюю границу\n",
    "    up = 100  # определяем верхнюю границу\n",
    "    predict = np.random.randint(1, 101)\n",
    "\n",
    "    while number != predict:\n",
    "        count += 1\n",
    "        if number > predict:\n",
    "            # сдвигаеи нижнюю границу идиапазона загаданного числа\n",
    "            low = predict\n",
    "            predict = int((up + low) / 2)\n",
    "            \n",
    "\n",
    "        elif number < predict:\n",
    "            # сдвигаеи верхнюю границу диапазона загаданного числа\n",
    "            up = predict\n",
    "            predict = (up + low) // 2\n",
    "            \n",
    "    print(predict, number)\n",
    "    return count  # выход из цикла, если угадали\n",
    "    \n",
    "\n",
    "game_core_v2(number)"
   ]
  },
  {
   "cell_type": "code",
   "execution_count": 23,
   "id": "a83dfe6b",
   "metadata": {},
   "outputs": [
    {
     "name": "stdout",
     "output_type": "stream",
     "text": [
      "3 3\n"
     ]
    },
    {
     "data": {
      "text/plain": [
       "6"
      ]
     },
     "execution_count": 23,
     "metadata": {},
     "output_type": "execute_result"
    }
   ],
   "source": [
    "# Отдельно проверяем функцию для угадывания числа. Вариант2 - первоначалоно predict определяется как половина интервала.\n",
    "\n",
    "import numpy as np\n",
    "\n",
    "number = np.random.randint(1, 101)\n",
    "\n",
    "\n",
    "def game_core_v2(number):\n",
    "    # Сначала устанавливаем начальное число как половина интервала, затем, используя метод деления пополам,\n",
    "    # сокрашаем интервал нахождения загаданного числа до тех пор, пока не отгадаем загаданное число.\n",
    "    # Функция принимает загаданное число и возвращает число попыток\n",
    "\n",
    "    count = 0  # устанавливаем счетчик попыток\n",
    "    low = 1  # определяем нижнюю границу\n",
    "    up = 100  # определяем верхнюю границу\n",
    "    predict = (low + up) // 2\n",
    "\n",
    "    while number != predict:\n",
    "        count += 1\n",
    "        if number > predict:\n",
    "            # сдвигаеи нижнюю границу идиапазона загаданного числа\n",
    "            low = predict\n",
    "            predict = int((up + low) / 2)\n",
    "            \n",
    "\n",
    "        elif number < predict:\n",
    "            # сдвигаеи верхнюю границу диапазона загаданного числа\n",
    "            up = predict\n",
    "            predict = (up + low) // 2\n",
    "            \n",
    "    print(predict, number)\n",
    "    return count  # выход из цикла, если угадали\n",
    "    \n",
    "\n",
    "game_core_v2(number)"
   ]
  },
  {
   "cell_type": "code",
   "execution_count": null,
   "id": "2e5d1d24",
   "metadata": {},
   "outputs": [],
   "source": []
  },
  {
   "cell_type": "code",
   "execution_count": null,
   "id": "63dbe94f",
   "metadata": {},
   "outputs": [],
   "source": []
  }
 ],
 "metadata": {
  "kernelspec": {
   "display_name": "Python 3",
   "language": "python",
   "name": "python3"
  },
  "language_info": {
   "codemirror_mode": {
    "name": "ipython",
    "version": 3
   },
   "file_extension": ".py",
   "mimetype": "text/x-python",
   "name": "python",
   "nbconvert_exporter": "python",
   "pygments_lexer": "ipython3",
   "version": "3.8.8"
  }
 },
 "nbformat": 4,
 "nbformat_minor": 5
}
